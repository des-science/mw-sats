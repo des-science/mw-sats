{
 "cells": [
  {
   "cell_type": "markdown",
   "metadata": {},
   "source": [
    "# Observational Selection Functions\n",
    "\n",
    "**Author:** Alex Drlica-Wagner ([@kadrlica](https://github.com/des-science/mw-sats/issues/new?body=@kadrlica))<br>\n",
    "**Date:** 2019-11-24<br>\n",
    "**Tag:** v0.2<br>\n",
    "\n",
    "This notebook is intended to demonstrate the application of the machine learning model of the observational selection function for Milky Way satellites derived in [Drlica-Wagner, Bechtol et al. (2019)](...). The selection function is distributed as a [XGBoost](https://xgboost.readthedocs.io/en/latest/) model file. While this example is written in Python, the model should be accessible with any language supported by XGBoost (i.e., R, C++, Julia, etc.)."
   ]
  },
  {
   "cell_type": "markdown",
   "metadata": {},
   "source": [
    "## Installation\n",
    "\n",
    "As a simple demonstration, we try to keep the installation to a minumum. To get started, clone this GitHub repository and change into the newly created directory:\n",
    "\n",
    "```\n",
    "> git clone https://github.com/des-science/mw-sats.git\n",
    "> cd mw-sats\n",
    "```\n",
    "\n",
    "We provide a minimal conda environment (`conda-env.yaml`) that will let you execute this tutorial. You can create this environment with:\n",
    "```\n",
    "> conda env create -v -f conda-env.yaml\n",
    "```\n",
    "Once the environment has been installed, you can activate it and start this notebook server on your local machine.\n",
    "```\n",
    "> conda activate mw-sats\n",
    "> jupyter notebook ExampleNotebook.ipynb\n",
    "```"
   ]
  },
  {
   "cell_type": "markdown",
   "metadata": {},
   "source": [
    "Next, we download the model files and other ancillary data products. These are stored on GitHub as a tarball under the [Releases](https://github.com/des-science/mw-sats/releases) page."
   ]
  },
  {
   "cell_type": "code",
   "execution_count": 1,
   "metadata": {},
   "outputs": [
    {
     "name": "stdout",
     "output_type": "stream",
     "text": [
      "Downloading data for mw-sats...\r\n",
      "wget https://github.com/des-science/mw-sats/releases/download/v0.2/mw-sats-data.tar.gz\r\n",
      "tar -xzf mw-sats-data.tar.gz\r\n"
     ]
    }
   ],
   "source": [
    "!./download.py config.yaml"
   ]
  },
  {
   "cell_type": "markdown",
   "metadata": {},
   "source": [
    "## Setup\n",
    "\n",
    "First we start with some generic imports."
   ]
  },
  {
   "cell_type": "code",
   "execution_count": 2,
   "metadata": {},
   "outputs": [],
   "source": [
    "from os.path import join,exists\n",
    "from collections import OrderedDict as odict\n",
    "\n",
    "import yaml\n",
    "import numpy as np\n",
    "import healpy as hp"
   ]
  },
  {
   "cell_type": "markdown",
   "metadata": {},
   "source": [
    "Then we load a configuration file that defines file paths and global values."
   ]
  },
  {
   "cell_type": "code",
   "execution_count": 3,
   "metadata": {},
   "outputs": [],
   "source": [
    "config = yaml.safe_load(open('config.yaml'))\n",
    "\n",
    "BITS = config['maskbits']\n",
    "BADBITS = (BITS['EBV'] | BITS['ASSOC'] | BITS['STAR'] | BITS['FOOT'] | \\\n",
    "           BITS['FAIL'] | BITS['ART'])\n",
    "\n",
    "def get_filepath(survey,filetype):\n",
    "    \"\"\"Get the filepath for a specific survey and filetype.\n",
    "    \n",
    "    Parameters\n",
    "    ----------\n",
    "    survey   : survey of interest ['des','ps1']\n",
    "    filetype : type of data file\n",
    "    \n",
    "    Returns\n",
    "    -------\n",
    "    filepath : path to file\n",
    "    \"\"\"\n",
    "    filepath = join(config['datadir'],config[survey][filetype])\n",
    "    return filepath"
   ]
  },
  {
   "cell_type": "markdown",
   "metadata": {},
   "source": [
    "## Minimal Example\n",
    "\n",
    "Here we demonstrate a minimal example to load and evaluate the classifiers. "
   ]
  },
  {
   "cell_type": "code",
   "execution_count": 4,
   "metadata": {},
   "outputs": [
    {
     "name": "stdout",
     "output_type": "stream",
     "text": [
      "Loading model from ./data/classifier_stellar_ps1_v13.0.1.model...\n",
      "Loading model from ./data/classifier_stellar_des_v12.2.0.model...\n"
     ]
    }
   ],
   "source": [
    "import xgboost as xgb\n",
    "\n",
    "ps1_model = xgb.XGBClassifier()\n",
    "filename = get_filepath('ps1','model')\n",
    "print(\"Loading model from %s...\"%filename)\n",
    "ps1_model.load_model(filename)\n",
    "\n",
    "des_model = xgb.XGBClassifier()\n",
    "filename = get_filepath('des','model')\n",
    "print(\"Loading model from %s...\"%filename)\n",
    "des_model.load_model(filename)"
   ]
  },
  {
   "cell_type": "markdown",
   "metadata": {},
   "source": [
    "The parameters of the classifier are: log(distance [kpc]), absolute magnitude, log(half-light radius [kpc]), and stellar density. These can be directly fed to the classifier to return a detection probability for a given survey."
   ]
  },
  {
   "cell_type": "code",
   "execution_count": 5,
   "metadata": {},
   "outputs": [
    {
     "name": "stdout",
     "output_type": "stream",
     "text": [
      "Input parameters: [[ 2. -5. -1.  1.]]\n",
      "PS1 detection probability: [0.5263512]\n",
      "DES detection probability: [0.9909887]\n"
     ]
    }
   ],
   "source": [
    "distance        = 100.0 # Heliocentric distance [kpc]\n",
    "abs_mag         = -5.0  # Absolute V-band magnitude\n",
    "r_physical      = 0.1   # Physical azimuthally averaged half-light radius [kpc]\n",
    "stellar_density = 1.0   # Stellar density (r < 22) [stars/arcmin^2]\n",
    "\n",
    "x_eval = np.vstack([np.log10(distance), abs_mag, np.log10(r_physical), stellar_density]).T\n",
    "print(\"Input parameters:\", x_eval)\n",
    "\n",
    "ps1_pdet = ps1_model.predict_proba(x_eval)[:,1]\n",
    "print(\"PS1 detection probability:\",ps1_pdet)\n",
    "\n",
    "des_pdet = des_model.predict_proba(x_eval)[:,1]\n",
    "print(\"DES detection probability:\",des_pdet)"
   ]
  },
  {
   "cell_type": "markdown",
   "metadata": {},
   "source": [
    "Input parameters can also be provided in vectorized format."
   ]
  },
  {
   "cell_type": "code",
   "execution_count": 6,
   "metadata": {},
   "outputs": [
    {
     "name": "stdout",
     "output_type": "stream",
     "text": [
      "Input parameters:\n",
      " [[ 1.    -5.    -1.     1.   ]\n",
      " [ 1.375 -5.    -1.     1.   ]\n",
      " [ 1.75  -5.    -1.     1.   ]\n",
      " [ 2.125 -5.    -1.     1.   ]\n",
      " [ 2.5   -5.    -1.     1.   ]]\n",
      "PS1 detection probability: [0.90075934 0.986316   0.86103725 0.36552337 0.00984656]\n",
      "DES detection probability: [0.8823705  0.9935754  0.9943646  0.98358077 0.7224905 ]\n"
     ]
    }
   ],
   "source": [
    "size            = 5                       # Number of samples\n",
    "distance        = np.logspace(1,2.5,size) # Heliocentric distance [kpc]\n",
    "abs_mag         = -5.0*np.ones(size)      # Absolute V-band magnitude\n",
    "r_physical      = 0.1*np.ones(size)       # Physical azimuthally averaged half-light radius [kpc]\n",
    "stellar_density = 1.0*np.ones(size)       # Stellar density (r < 22) [stars/arcmin^2]\n",
    "\n",
    "x_eval = np.vstack([np.log10(distance), abs_mag, np.log10(r_physical), stellar_density]).T\n",
    "print(\"Input parameters:\\n\", x_eval)\n",
    "\n",
    "ps1_pdet = ps1_model.predict_proba(x_eval)[:,1]\n",
    "print(\"PS1 detection probability:\",ps1_pdet)\n",
    "\n",
    "des_pdet = des_model.predict_proba(x_eval)[:,1]\n",
    "print(\"DES detection probability:\",des_pdet)"
   ]
  },
  {
   "cell_type": "markdown",
   "metadata": {},
   "source": [
    "## Deeper Example\n",
    "\n",
    "The example above did not include any explicit spatial dependence (i.e., the survey footprint or stellar density at any given location on the sky). To incorporate this information, it is helpful to write a short class to encapsulate this information. This is especially useful because we don't want to have to load the large nside=4096 HEALPix mask file every time we want to evaluate the detection probability of a satellite."
   ]
  },
  {
   "cell_type": "code",
   "execution_count": 7,
   "metadata": {},
   "outputs": [],
   "source": [
    "class SurveySelectionFunction(object):\n",
    "    \"\"\"Survey selection function including spatial information.\"\"\"\n",
    "\n",
    "    def __init__(self, survey):\n",
    "        \"\"\"Initialize survey selection function.\"\"\"\n",
    "        self.survey = survey\n",
    "        print(\"Loading model...\")\n",
    "        self.model = xgb.XGBClassifier()\n",
    "        self.model.load_model(get_filepath(self.survey,'model'))\n",
    "        print(\"Loading mask...\") # This can take a while...\n",
    "        self.mask = hp.read_map(get_filepath(self.survey,'mask'),dtype=int)\n",
    "        print(\"Loading stellar density map...\")\n",
    "        self.density = hp.read_map(get_filepath(self.survey,'density'))\n",
    "\n",
    "    @staticmethod\n",
    "    def get_hpxmap_value(hpxmap,lon,lat):\n",
    "        \"\"\"Get the value of a healpix map at a given location.\n",
    "        \n",
    "        Parameters\n",
    "        ----------\n",
    "        hpxmap : HEALPix map (must be in same frame as `lon` and `lat`)\n",
    "        lon : longitude [deg]\n",
    "        lat : latitude [deg]\n",
    "        \n",
    "        Returns\n",
    "        -------\n",
    "        value : healpix map value\n",
    "        \"\"\"\n",
    "        nside = hp.get_nside(hpxmap)\n",
    "        pix   = hp.ang2pix(nside,lon,lat,lonlat=True)\n",
    "        return hpxmap[pix]\n",
    "        \n",
    "    def get_stellar_density(self, ra, dec):\n",
    "        \"\"\"Calculate the stellar density at the location of each satellite.\n",
    "\n",
    "        Parameters\n",
    "        ----------\n",
    "        ra : right ascension [deg]\n",
    "        dec: declination [deg]\n",
    "        \n",
    "        Returns\n",
    "        -------\n",
    "        stellar_density : stellar density [stars/arcmin^2]\n",
    "        \"\"\"\n",
    "        return self.get_hpxmap_value(self.density,ra,dec)\n",
    "\n",
    "    def get_mask_value(self, ra, dec):\n",
    "        \"\"\"Calculate the mask value at the location of each satellite.\n",
    "\n",
    "        Parameters\n",
    "        ----------\n",
    "        ra : right ascension [deg]\n",
    "        dec: declination [deg]\n",
    "        \n",
    "        Returns\n",
    "        -------\n",
    "        value : mask value\n",
    "        \"\"\"\n",
    "        return self.get_hpxmap_value(self.mask,ra,dec)\n",
    "    \n",
    "    def predict(self, distance, abs_mag, r_physical, ra, dec):\n",
    "        \"\"\"Predict the satellite detection probability for a survey.\n",
    "        \n",
    "        Parameters\n",
    "        ----------\n",
    "        distance   : Heliocentric distance [kpc]\n",
    "        abs_mag    : Absolute V-band magnitude\n",
    "        r_physical : Physical azimuthally averaged half-light radius [kpc]\n",
    "        ra         : Right ascension [deg]\n",
    "        dec        : Declination [deg]\n",
    "\n",
    "        Returns\n",
    "        -------\n",
    "        pdet : detection probability\n",
    "        \"\"\"\n",
    "        # Calculate the stellar density at the location of each satellite.\n",
    "        stellar_density = self.get_stellar_density(ra,dec)\n",
    "        \n",
    "        # Evaluate the model for each satellite\n",
    "        x_eval = np.vstack([np.log10(distance), abs_mag, np.log10(r_physical), stellar_density]).T\n",
    "        pred = self.model.predict_proba(x_eval)[:,1]\n",
    "\n",
    "        #Calculate the mask value at the location of each satellite.\n",
    "        mask_value = self.get_mask_value(ra,dec)\n",
    "        # Set pdet to zero for satellites in masked area\n",
    "        bad = (mask_value & BADBITS) != 0\n",
    "        pred[bad] = 0\n",
    "        \n",
    "        return pred"
   ]
  },
  {
   "cell_type": "code",
   "execution_count": 8,
   "metadata": {},
   "outputs": [
    {
     "name": "stdout",
     "output_type": "stream",
     "text": [
      "Loading model...\n",
      "Loading mask...\n",
      "NSIDE = 4096\n",
      "ORDERING = NESTED in fits file\n",
      "INDXSCHM = IMPLICIT\n",
      "Ordering converted to RING\n",
      "Loading stellar density map...\n",
      "NSIDE = 128\n",
      "ORDERING = RING in fits file\n",
      "INDXSCHM = IMPLICIT\n"
     ]
    }
   ],
   "source": [
    "ps1_ssf = SurveySelectionFunction('ps1')"
   ]
  },
  {
   "cell_type": "code",
   "execution_count": 9,
   "metadata": {},
   "outputs": [
    {
     "name": "stdout",
     "output_type": "stream",
     "text": [
      "PS1 stellar density [stars/arcmin^2]: [0.94259155 1.08424509 1.16102922 1.68263185 2.96810436]\n",
      "PS1 detection probability: [0.55837226 0.4944182  0.4825996  0.33240312 0.08314446]\n"
     ]
    }
   ],
   "source": [
    "size       = 5                        # Number of satellites\n",
    "distance   = 100*np.ones(size)        # Heliocentric distance [kpc]\n",
    "abs_mag    = -5.0*np.ones(size)       # Absolute V-band magnitude\n",
    "r_physical = 0.1*np.ones(size)        # Physical azimuthally averaged half-light radius [kpc]\n",
    "ra         = np.linspace(40,80,size)  # Right ascension (deg)\n",
    "dec        = -10.0*np.ones(size)      # Declination (deg)\n",
    "\n",
    "print(\"PS1 stellar density [stars/arcmin^2]:\",ps1_ssf.get_stellar_density(ra,dec))\n",
    "\n",
    "ps1_pdet = ps1_ssf.predict(distance=distance,abs_mag=abs_mag,r_physical=r_physical,ra=ra,dec=dec)\n",
    "print(\"PS1 detection probability:\",ps1_pdet)"
   ]
  }
 ],
 "metadata": {
  "kernelspec": {
   "display_name": "Python 3",
   "language": "python",
   "name": "python3"
  },
  "language_info": {
   "codemirror_mode": {
    "name": "ipython",
    "version": 3
   },
   "file_extension": ".py",
   "mimetype": "text/x-python",
   "name": "python",
   "nbconvert_exporter": "python",
   "pygments_lexer": "ipython3",
   "version": "3.7.3"
  }
 },
 "nbformat": 4,
 "nbformat_minor": 2
}
